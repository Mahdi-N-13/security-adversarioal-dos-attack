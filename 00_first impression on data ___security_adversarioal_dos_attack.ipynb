{
  "nbformat": 4,
  "nbformat_minor": 0,
  "metadata": {
    "colab": {
      "name": "security-adversarioal-dos-attack__data.ipynb",
      "provenance": [],
      "authorship_tag": "ABX9TyPcydaiMtmdPWgHod3L0iTV",
      "include_colab_link": true
    },
    "kernelspec": {
      "name": "python3",
      "display_name": "Python 3"
    },
    "language_info": {
      "name": "python"
    }
  },
  "cells": [
    {
      "cell_type": "markdown",
      "metadata": {
        "id": "view-in-github",
        "colab_type": "text"
      },
      "source": [
        "<a href=\"https://colab.research.google.com/github/Mahdi-N-13/security-adversarioal-dos-attack/blob/main/00_first%20impression%20on%20data%20___security_adversarioal_dos_attack.ipynb\" target=\"_parent\"><img src=\"https://colab.research.google.com/assets/colab-badge.svg\" alt=\"Open In Colab\"/></a>"
      ]
    },
    {
      "cell_type": "code",
      "execution_count": null,
      "metadata": {
        "id": "h25P2Nw8Sk1j"
      },
      "outputs": [],
      "source": [
        "import matplotlib.pyplot as plt\n",
        "import numpy as np\n",
        "import pandas as pd"
      ]
    },
    {
      "cell_type": "code",
      "source": [
        "data1 = pd.read_csv('https://github.com/rizzaesh/security-adversarioal-dos-attack/blob/main/Dataset/benign_update_benign.csv?raw=1')\n",
        "data2 = pd.read_csv('https://github.com/rizzaesh/security-adversarioal-dos-attack/blob/main/Dataset/ddos_update_ddos.csv?raw=1')\n",
        "data1['label'] = 'benign'\n",
        "data = data1.append(data2)\n",
        "del data1,data2\n",
        "data"
      ],
      "metadata": {
        "id": "a1Ll0UTzStBn"
      },
      "execution_count": null,
      "outputs": []
    },
    {
      "cell_type": "code",
      "source": [
        "safe = data['label'] == 'benign'\n",
        "attc = data['label'] == 'ddos'\n",
        "l = []\n",
        "for f in range(len(data.iloc[0])):\n",
        "  print(data.columns[f],len(set(data.iloc[:,f])))\n",
        "  if len(set(data.iloc[:,f])) == 1:\n",
        "    print(set(data.iloc[:,f]))\n",
        "    # print('\\n')\n",
        "  else:\n",
        "    l.append(data.columns[f])\n",
        "data = data[l]\n",
        "del l"
      ],
      "metadata": {
        "id": "vTPIjlZYSw3Q"
      },
      "execution_count": null,
      "outputs": []
    },
    {
      "cell_type": "code",
      "source": [
        "safe = np.array(data['label'] == 'benign')\n",
        "# attc = data['label'] == 'ddos'\n",
        "attc = np.invert(safe)\n",
        "n_f = len(data.iloc[0])\n",
        "for i in range(n_f-1):\n",
        "  for j in range(i+1):\n",
        "    plt.scatter(data.iloc[safe,i],data.iloc[safe,j])\n",
        "    plt.scatter(data.iloc[attc,i],data.iloc[attc,j])\n",
        "    plt.xlabel(data.columns[i])\n",
        "    plt.ylabel(data.columns[j])\n",
        "    plt.show()"
      ],
      "metadata": {
        "id": "K3uqPrDuSxTB"
      },
      "execution_count": null,
      "outputs": []
    },
    {
      "cell_type": "code",
      "source": [
        "C =  ['r' if x=='ddos' else 'g' for x in data.label]\n",
        "pd.plotting.scatter_matrix(data, figsize=(15,15), c = C)\n"
      ],
      "metadata": {
        "id": "vWsyPwCMS2nH"
      },
      "execution_count": null,
      "outputs": []
    },
    {
      "cell_type": "code",
      "source": [
        "I = np.zeros(n_f-1)\n",
        "for i in range(n_f-1):\n",
        "  minn,maxx = data.iloc[:,i].min(),data.iloc[:,i].max()\n",
        "  Sa,Sax = np.histogram(np.array(data.iloc[safe,i]),range=(minn,maxx),bins=50)[0]\n",
        "  At,Atx = np.histogram(np.array(data.iloc[attc,i]),range=(minn,maxx),bins=50)[0]\n",
        "  c = (Sa+At)\n",
        "  c_s = c.sum()\n",
        "  nz = Sa!=0\n",
        "  if nz.any():\n",
        "    I[i] = (Sa[nz]/c_s*np.log2((Sa[nz]/c_s)/(Sa.sum()/c_s)/(c[nz]/c_s))).sum()\n",
        "  nz = At!=0\n",
        "  if nz.any():\n",
        "    I[i] += (At[nz]/c_s*np.log2((At[nz]/c_s)/(At.sum()/c_s)/(c[nz]/c_s))).sum()\n",
        "  plt.scatter(Sax[:-1],Sa)\n",
        "  plt.scatter(Atx[:-1],At)\n",
        "  plt.xlabel(data.columns[i])\n",
        "  plt.show()"
      ],
      "metadata": {
        "id": "JxNjd-_nS2uo"
      },
      "execution_count": null,
      "outputs": []
    },
    {
      "cell_type": "code",
      "source": [
        "plt.plot(np.flip(np.sort(I)))\n",
        "plt.xlabel('feature')\n",
        "plt.xticks(range(n_f-1),data.columns[np.flip(np.argsort(I))],rotation='vertical')\n",
        "plt.ylabel('Mutual Information (in binary bits log2)')\n",
        "plt.show()"
      ],
      "metadata": {
        "id": "XIAZd9I7S21f"
      },
      "execution_count": null,
      "outputs": []
    }
  ]
}